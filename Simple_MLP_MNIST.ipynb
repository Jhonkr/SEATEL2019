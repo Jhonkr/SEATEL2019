{
  "nbformat": 4,
  "nbformat_minor": 0,
  "metadata": {
    "colab": {
      "name": "Simple MLP_MNIST.ipynb",
      "version": "0.3.2",
      "provenance": [],
      "collapsed_sections": [],
      "include_colab_link": true
    },
    "kernelspec": {
      "name": "python3",
      "display_name": "Python 3"
    }
  },
  "cells": [
    {
      "cell_type": "markdown",
      "metadata": {
        "id": "view-in-github",
        "colab_type": "text"
      },
      "source": [
        "<a href=\"https://colab.research.google.com/github/Jhonkr/SEATEL2019/blob/master/Simple_MLP_MNIST.ipynb\" target=\"_parent\"><img src=\"https://colab.research.google.com/assets/colab-badge.svg\" alt=\"Open In Colab\"/></a>"
      ]
    },
    {
      "cell_type": "code",
      "metadata": {
        "id": "wW5VvSS6ouJa",
        "colab_type": "code",
        "colab": {}
      },
      "source": [
        ""
      ],
      "execution_count": 0,
      "outputs": []
    },
    {
      "cell_type": "markdown",
      "metadata": {
        "id": "dl3y7VcbKb-B",
        "colab_type": "text"
      },
      "source": [
        "## Import Libs"
      ]
    },
    {
      "cell_type": "code",
      "metadata": {
        "id": "ao9znbpCH4nU",
        "colab_type": "code",
        "outputId": "a81c17cb-9e18-4545-cfad-c806b6546258",
        "colab": {
          "base_uri": "https://localhost:8080/",
          "height": 34
        }
      },
      "source": [
        "import keras\n",
        "import matplotlib.pyplot as plt\n",
        "import tensorflow\n",
        "from tensorflow.keras.models import load_model\n",
        "\n",
        "import numpy as np\n",
        "import pandas\n",
        "\n",
        "from keras.models import Sequential\n",
        "from keras.layers import Dense, Flatten\n",
        "from keras.callbacks import EarlyStopping, ModelCheckpoint\n",
        "from keras.wrappers.scikit_learn import KerasClassifier\n",
        "from keras.utils import np_utils\n",
        "from keras.layers.normalization import BatchNormalization\n",
        "\n",
        "from sklearn.model_selection import cross_val_score\n",
        "from sklearn.preprocessing import LabelEncoder\n",
        "from sklearn.model_selection import KFold\n",
        "from sklearn.preprocessing import StandardScaler\n",
        "from sklearn.pipeline import Pipeline\n",
        "\n",
        "import matplotlib.pyplot as plt\n",
        "\n",
        "import time"
      ],
      "execution_count": 1,
      "outputs": [
        {
          "output_type": "stream",
          "text": [
            "Using TensorFlow backend.\n"
          ],
          "name": "stderr"
        }
      ]
    },
    {
      "cell_type": "code",
      "metadata": {
        "id": "SXosQ43vKgso",
        "colab_type": "code",
        "colab": {}
      },
      "source": [
        "#Seed for reproducibility\n",
        "seed = 1\n",
        "np.random.seed(seed)"
      ],
      "execution_count": 0,
      "outputs": []
    },
    {
      "cell_type": "markdown",
      "metadata": {
        "id": "pfQ-iAIKKqUw",
        "colab_type": "text"
      },
      "source": [
        "## MLP"
      ]
    },
    {
      "cell_type": "code",
      "metadata": {
        "id": "ySknQfNmKrQw",
        "colab_type": "code",
        "outputId": "6f7d4a02-5c65-4352-c5ed-4d4bee7c18ba",
        "colab": {
          "base_uri": "https://localhost:8080/",
          "height": 51
        }
      },
      "source": [
        "#Import Dataset\n",
        "dataset = keras.datasets.mnist\n",
        "((x_train, y_train),(x_test, y_test)) = dataset.load_data()"
      ],
      "execution_count": 3,
      "outputs": [
        {
          "output_type": "stream",
          "text": [
            "Downloading data from https://s3.amazonaws.com/img-datasets/mnist.npz\n",
            "11493376/11490434 [==============================] - 1s 0us/step\n"
          ],
          "name": "stdout"
        }
      ]
    },
    {
      "cell_type": "code",
      "metadata": {
        "id": "0jdTvyJvKzFe",
        "colab_type": "code",
        "outputId": "01381382-d63f-4f12-c03b-ad019937c4e1",
        "colab": {
          "base_uri": "https://localhost:8080/",
          "height": 286
        }
      },
      "source": [
        "plt.imshow(x_test[0])"
      ],
      "execution_count": 4,
      "outputs": [
        {
          "output_type": "execute_result",
          "data": {
            "text/plain": [
              "<matplotlib.image.AxesImage at 0x7fc98f36a668>"
            ]
          },
          "metadata": {
            "tags": []
          },
          "execution_count": 4
        },
        {
          "output_type": "display_data",
          "data": {
            "image/png": "[encoded data removed]",
            "text/plain": [
              "<Figure size 432x288 with 1 Axes>"
            ]
          },
          "metadata": {
            "tags": []
          }
        }
      ]
    },
    {
      "cell_type": "code",
      "metadata": {
        "id": "KIztWcr3K0FO",
        "colab_type": "code",
        "colab": {
          "base_uri": "https://localhost:8080/",
          "height": 139
        },
        "outputId": "36b38e3e-7eb8-47b3-c351-5fcb563f86e6"
      },
      "source": [
        "x_train = x_train/float(255)                                              # Images Normalization\n",
        "\n",
        "model = keras.Sequential([keras.layers.Flatten(input_shape = (28,28)),    # Building Sequential model, Layers and input_shape of 28/28\n",
        "                          keras.layers.Dense(512, activation= 'relu'),    # Note that the Weights of Convulutional layer need to be flattened.\n",
        "                                                                          # (made 1-dimensional) before passing them to the fully connected Dense layer.\n",
        "                          keras.layers.Dropout(0.05),                     # Dropout function to prevent over-fitting \n",
        "                          keras.layers.Dense(10, activation= 'softmax')]) # Number of neuron in out layer is 10"
      ],
      "execution_count": 5,
      "outputs": [
        {
          "output_type": "stream",
          "text": [
            "WARNING:tensorflow:From /usr/local/lib/python3.6/dist-packages/tensorflow/python/framework/op_def_library.py:263: colocate_with (from tensorflow.python.framework.ops) is deprecated and will be removed in a future version.\n",
            "Instructions for updating:\n",
            "Colocations handled automatically by placer.\n",
            "WARNING:tensorflow:From /usr/local/lib/python3.6/dist-packages/keras/backend/tensorflow_backend.py:3445: calling dropout (from tensorflow.python.ops.nn_ops) with keep_prob is deprecated and will be removed in a future version.\n",
            "Instructions for updating:\n",
            "Please use `rate` instead of `keep_prob`. Rate should be set to `rate = 1 - keep_prob`.\n"
          ],
          "name": "stdout"
        }
      ]
    },
    {
      "cell_type": "code",
      "metadata": {
        "id": "54NfcmgcLpC0",
        "colab_type": "code",
        "colab": {}
      },
      "source": [
        "model.compile(optimizer = 'adam',                            #For 2> categories is common use Adam optimizer\n",
        "              loss = 'sparse_categorical_crossentropy',\n",
        "              metrics = ['accuracy']) "
      ],
      "execution_count": 0,
      "outputs": []
    },
    {
      "cell_type": "code",
      "metadata": {
        "id": "bOrgCzozLqpe",
        "colab_type": "code",
        "colab": {
          "base_uri": "https://localhost:8080/",
          "height": 275
        },
        "outputId": "3301d305-52c7-4b4f-d873-eea2de597b03"
      },
      "source": [
        "history = model.fit(x_train,       # Test images\n",
        "          y_train,                 # Test labels\n",
        "          epochs = 5,              # Epochs is number of times that the NN is trained\n",
        "          validation_split = 0.2,   # Validation split of 20%\n",
        "          batch_size = 100)   "
      ],
      "execution_count": 7,
      "outputs": [
        {
          "output_type": "stream",
          "text": [
            "WARNING:tensorflow:From /usr/local/lib/python3.6/dist-packages/tensorflow/python/ops/math_ops.py:3066: to_int32 (from tensorflow.python.ops.math_ops) is deprecated and will be removed in a future version.\n",
            "Instructions for updating:\n",
            "Use tf.cast instead.\n",
            "Train on 48000 samples, validate on 12000 samples\n",
            "Epoch 1/5\n",
            "48000/48000 [==============================] - 7s 150us/step - loss: 0.2883 - acc: 0.9165 - val_loss: 0.1474 - val_acc: 0.9584\n",
            "Epoch 2/5\n",
            "48000/48000 [==============================] - 6s 135us/step - loss: 0.1188 - acc: 0.9650 - val_loss: 0.0984 - val_acc: 0.9689\n",
            "Epoch 3/5\n",
            "48000/48000 [==============================] - 6s 135us/step - loss: 0.0768 - acc: 0.9775 - val_loss: 0.0909 - val_acc: 0.9721\n",
            "Epoch 4/5\n",
            "48000/48000 [==============================] - 6s 131us/step - loss: 0.0558 - acc: 0.9830 - val_loss: 0.0798 - val_acc: 0.9751\n",
            "Epoch 5/5\n",
            "48000/48000 [==============================] - 6s 132us/step - loss: 0.0408 - acc: 0.9881 - val_loss: 0.0753 - val_acc: 0.9768\n"
          ],
          "name": "stdout"
        }
      ]
    },
    {
      "cell_type": "code",
      "metadata": {
        "id": "CFrQSflzMKx0",
        "colab_type": "code",
        "colab": {
          "base_uri": "https://localhost:8080/",
          "height": 51
        },
        "outputId": "c94a44fc-c6ff-4129-ee1d-6b913e8e7e8d"
      },
      "source": [
        "test = model.predict(x_test)\n",
        "print(\"Test result: \",np.argmax(test[2]))\n",
        "print(\"Number of equivalent image:\", y_test[2])\n"
      ],
      "execution_count": 9,
      "outputs": [
        {
          "output_type": "stream",
          "text": [
            "Test result:  1\n",
            "Number of equivalent image: 1\n"
          ],
          "name": "stdout"
        }
      ]
    },
    {
      "cell_type": "code",
      "metadata": {
        "id": "9Dn2_eaSMVmg",
        "colab_type": "code",
        "outputId": "9e61f551-7e55-40ff-c547-62fb795cc74b",
        "colab": {
          "base_uri": "https://localhost:8080/",
          "height": 68
        }
      },
      "source": [
        "loss_test, acc_test = model.evaluate(x_test, y_test)\n",
        "print('My test loss:', loss_test)\n",
        "print('My test acc:', acc_test*100)"
      ],
      "execution_count": 10,
      "outputs": [
        {
          "output_type": "stream",
          "text": [
            "10000/10000 [==============================] - 1s 54us/step\n",
            "My test loss: 0.35327318998706103\n",
            "My test acc: 97.77\n"
          ],
          "name": "stdout"
        }
      ]
    },
    {
      "cell_type": "code",
      "metadata": {
        "id": "UHJx-ewNMas1",
        "colab_type": "code",
        "outputId": "136b225f-64ac-4a14-9051-ea6093ee8ecb",
        "colab": {
          "base_uri": "https://localhost:8080/",
          "height": 357
        }
      },
      "source": [
        "history.history"
      ],
      "execution_count": 11,
      "outputs": [
        {
          "output_type": "execute_result",
          "data": {
            "text/plain": [
              "{'acc': [0.9165000014007092,\n",
              "  0.9650208380073309,\n",
              "  0.977520843843619,\n",
              "  0.9829791775594156,\n",
              "  0.9881458431482315],\n",
              " 'loss': [0.2883205562752361,\n",
              "  0.11877012837988635,\n",
              "  0.0767862135428004,\n",
              "  0.055848735260466735,\n",
              "  0.040764375240541995],\n",
              " 'val_acc': [0.9584166705608368,\n",
              "  0.9689166729648908,\n",
              "  0.9720833420753479,\n",
              "  0.975083340704441,\n",
              "  0.9767500082651774],\n",
              " 'val_loss': [0.1473632623751958,\n",
              "  0.09838173707248643,\n",
              "  0.09094139266914378,\n",
              "  0.07982869879536642,\n",
              "  0.07527026496536564]}"
            ]
          },
          "metadata": {
            "tags": []
          },
          "execution_count": 11
        }
      ]
    },
    {
      "cell_type": "code",
      "metadata": {
        "id": "vctv9k5-MbK_",
        "colab_type": "code",
        "colab": {}
      },
      "source": [
        "model.save('model.h5')\n",
        "model_saved = load_model('model.h5')"
      ],
      "execution_count": 0,
      "outputs": []
    },
    {
      "cell_type": "code",
      "metadata": {
        "id": "0pLNW41bMpkj",
        "colab_type": "code",
        "outputId": "423ac6eb-219d-441d-caac-f21578ab636b",
        "colab": {
          "base_uri": "https://localhost:8080/",
          "height": 51
        }
      },
      "source": [
        "test_model_saved = model_saved.predict(x_test)\n",
        "print('Result saved model:', np.argmax(test_model_saved[1]))\n",
        "print('Number equivalent of the image:', y_test[1])"
      ],
      "execution_count": 13,
      "outputs": [
        {
          "output_type": "stream",
          "text": [
            "Result saved model: 2\n",
            "Number equivalent of the image: 2\n"
          ],
          "name": "stdout"
        }
      ]
    },
    {
      "cell_type": "code",
      "metadata": {
        "id": "HohykQ_9o_Ii",
        "colab_type": "code",
        "colab": {}
      },
      "source": [
        ""
      ],
      "execution_count": 0,
      "outputs": []
    }
  ]
}