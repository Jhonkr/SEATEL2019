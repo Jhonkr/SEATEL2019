{
  "nbformat": 4,
  "nbformat_minor": 0,
  "metadata": {
    "colab": {
      "name": "Do it yourself - Day1.ipynb",
      "version": "0.3.2",
      "provenance": [],
      "collapsed_sections": [
        "BQTOFImOOuW_"
      ],
      "include_colab_link": true
    },
    "kernelspec": {
      "name": "python3",
      "display_name": "Python 3"
    }
  },
  "cells": [
    {
      "cell_type": "markdown",
      "metadata": {
        "id": "view-in-github",
        "colab_type": "text"
      },
      "source": [
        "<a href=\"https://colab.research.google.com/github/Jhonkr/SEATEL2019/blob/master/Do_it_yourself_Day1.ipynb\" target=\"_parent\"><img src=\"https://colab.research.google.com/assets/colab-badge.svg\" alt=\"Open In Colab\"/></a>"
      ]
    },
    {
      "cell_type": "markdown",
      "metadata": {
        "id": "5_gayLM9IS_9",
        "colab_type": "text"
      },
      "source": [
        "#Iris dataset"
      ]
    },
    {
      "cell_type": "markdown",
      "metadata": {
        "id": "BqssuFQgP8yP",
        "colab_type": "text"
      },
      "source": [
        "##Import the libraries."
      ]
    },
    {
      "cell_type": "code",
      "metadata": {
        "id": "n315465QIJv_",
        "colab_type": "code",
        "colab": {}
      },
      "source": [
        "# Libraries\n",
        "\n",
        "import pandas as pd\n",
        "from pandas.plotting import scatter_matrix\n",
        "import matplotlib.pyplot as plt\n",
        "\n",
        "from sklearn import model_selection\n",
        "from sklearn.metrics import classification_report, confusion_matrix, accuracy_score\n",
        "\n",
        "from sklearn.linear_model import LogisticRegression\n",
        "from sklearn.tree import DecisionTreeClassifier\n",
        "from sklearn.neighbors import KNeighborsClassifier\n",
        "from sklearn.discriminant_analysis import LinearDiscriminantAnalysis\n",
        "from sklearn.naive_bayes import GaussianNB\n",
        "from sklearn.svm import SVC\n",
        "from sklearn.ensemble import AdaBoostClassifier\n",
        "\n",
        "from sklearn.datasets import load_iris"
      ],
      "execution_count": 0,
      "outputs": []
    },
    {
      "cell_type": "markdown",
      "metadata": {
        "id": "0S7rulQZQAH2",
        "colab_type": "text"
      },
      "source": [
        "## Load Dataset\n",
        "\n",
        "Analyse your dataframe!"
      ]
    },
    {
      "cell_type": "code",
      "metadata": {
        "id": "1HCCJ13GIyul",
        "colab_type": "code",
        "outputId": "0bcfe3f2-62b8-4d68-8865-45bc7e0b30dc",
        "colab": {
          "base_uri": "https://localhost:8080/",
          "height": 34
        }
      },
      "source": [
        "# Load dataset\n",
        "# You can load the dataset from wherever you want, in this case I imported the Iris dataset using \"SKlearn datasets\" library\n",
        "iris = load_iris()\n",
        "\n",
        "list(iris.target_names)\n",
        "['setosa', 'versicolor', 'virginica']"
      ],
      "execution_count": 0,
      "outputs": [
        {
          "output_type": "execute_result",
          "data": {
            "text/plain": [
              "['setosa', 'versicolor', 'virginica']"
            ]
          },
          "metadata": {
            "tags": []
          },
          "execution_count": 2
        }
      ]
    },
    {
      "cell_type": "code",
      "metadata": {
        "id": "uHI6qjaWJcbe",
        "colab_type": "code",
        "outputId": "fb7a096d-bd4d-4593-81e4-62db96858b82",
        "colab": {
          "base_uri": "https://localhost:8080/",
          "height": 51
        }
      },
      "source": [
        "print(len(iris))\n",
        "print(type(iris))"
      ],
      "execution_count": 0,
      "outputs": [
        {
          "output_type": "stream",
          "text": [
            "6\n",
            "<class 'sklearn.utils.Bunch'>\n"
          ],
          "name": "stdout"
        }
      ]
    },
    {
      "cell_type": "code",
      "metadata": {
        "id": "3gqcOP4aKevr",
        "colab_type": "code",
        "outputId": "12cbe327-e66b-4418-caf1-4f81925ea63e",
        "colab": {
          "base_uri": "https://localhost:8080/",
          "height": 238
        }
      },
      "source": [
        "# Load the iris dataset with pandas:\n",
        "# Pandas can read raw data directly from URL.\n",
        "\n",
        "url = \"https://gist.githubusercontent.com/curran/a08a1080b88344b0c8a7/raw/d546eaee765268bf2f487608c537c05e22e4b221/iris.csv\"\n",
        "iris_df = pd.read_csv(url)\n",
        "\n",
        "print(iris_df.head())\n",
        "print(iris_df.tail())\n",
        "\n",
        "# shape\n",
        "print(iris_df.shape)"
      ],
      "execution_count": 0,
      "outputs": [
        {
          "output_type": "stream",
          "text": [
            "   sepal_length  sepal_width  petal_length  petal_width species\n",
            "0           5.1          3.5           1.4          0.2  setosa\n",
            "1           4.9          3.0           1.4          0.2  setosa\n",
            "2           4.7          3.2           1.3          0.2  setosa\n",
            "3           4.6          3.1           1.5          0.2  setosa\n",
            "4           5.0          3.6           1.4          0.2  setosa\n",
            "     sepal_length  sepal_width  petal_length  petal_width    species\n",
            "145           6.7          3.0           5.2          2.3  virginica\n",
            "146           6.3          2.5           5.0          1.9  virginica\n",
            "147           6.5          3.0           5.2          2.0  virginica\n",
            "148           6.2          3.4           5.4          2.3  virginica\n",
            "149           5.9          3.0           5.1          1.8  virginica\n",
            "(150, 5)\n"
          ],
          "name": "stdout"
        }
      ]
    },
    {
      "cell_type": "markdown",
      "metadata": {
        "id": "HoQpYBHwQKvz",
        "colab_type": "text"
      },
      "source": [
        "##Extend the visualization"
      ]
    },
    {
      "cell_type": "markdown",
      "metadata": {
        "id": "4YIHzBLsLEWf",
        "colab_type": "text"
      },
      "source": [
        "We are going to work with Pandas\n",
        "\n",
        "We now have a basic idea about the data. We need to extend that with some visualizations."
      ]
    },
    {
      "cell_type": "code",
      "metadata": {
        "id": "R4wF0EG-LCIc",
        "colab_type": "code",
        "outputId": "35494cc5-3ff4-49cb-94fe-853f90caa7ec",
        "colab": {
          "base_uri": "https://localhost:8080/",
          "height": 281
        }
      },
      "source": [
        "# histograms\n",
        "iris_df.hist()\n",
        "plt.show()"
      ],
      "execution_count": 0,
      "outputs": [
        {
          "output_type": "display_data",
          "data": {
            "image/png": "[encoded data removed]",
            "text/plain": [
              "<Figure size 432x288 with 4 Axes>"
            ]
          },
          "metadata": {
            "tags": []
          }
        }
      ]
    },
    {
      "cell_type": "code",
      "metadata": {
        "id": "bhPilLkWLyf7",
        "colab_type": "code",
        "outputId": "8be23190-b2c8-4f6a-c395-4ca4b64aed38",
        "colab": {
          "base_uri": "https://localhost:8080/",
          "height": 288
        }
      },
      "source": [
        "# Lets take a look of all pairs of attributes\n",
        "scatter_matrix(iris_df)\n",
        "plt.show()"
      ],
      "execution_count": 0,
      "outputs": [
        {
          "output_type": "display_data",
          "data": {
            "image/png": "[encoded data removed]",
            "text/plain": [
              "<Figure size 432x288 with 16 Axes>"
            ]
          },
          "metadata": {
            "tags": []
          }
        }
      ]
    },
    {
      "cell_type": "markdown",
      "metadata": {
        "id": "ODlpbQpENAdR",
        "colab_type": "text"
      },
      "source": [
        "## Create a validation dataset"
      ]
    },
    {
      "cell_type": "markdown",
      "metadata": {
        "id": "Up7yplcoQZTY",
        "colab_type": "text"
      },
      "source": [
        "More explanation about seed:\n",
        "\n",
        "https://machinelearningmastery.com/introduction-to-random-number-generators-for-machine-learning/\n"
      ]
    },
    {
      "cell_type": "code",
      "metadata": {
        "id": "FrllxtEyNSlK",
        "colab_type": "code",
        "colab": {}
      },
      "source": [
        "seed = 13"
      ],
      "execution_count": 0,
      "outputs": []
    },
    {
      "cell_type": "markdown",
      "metadata": {
        "id": "DyuFxVAmQqv9",
        "colab_type": "text"
      },
      "source": [
        "Split the loaded dataset in two.\n",
        "\n",
        "80% to train our models and 20% as a validation dataset."
      ]
    },
    {
      "cell_type": "code",
      "metadata": {
        "id": "y-scQCd0L5cw",
        "colab_type": "code",
        "colab": {}
      },
      "source": [
        "from sklearn import model_selection\n",
        "array = iris_df.values\n",
        "X = array[:,0:4]\n",
        "Y = array[:,4]\n",
        "validation_size = 0.20\n",
        "seed = 7\n",
        "X_train, X_validation, Y_train, Y_validation = model_selection.train_test_split\n",
        "(X, Y, test_size=validation_size, random_state=seed)"
      ],
      "execution_count": 0,
      "outputs": []
    },
    {
      "cell_type": "code",
      "metadata": {
        "id": "TzJtNUipOIB4",
        "colab_type": "code",
        "outputId": "937d7abf-36d3-45bf-cae5-a4a023db203a",
        "colab": {
          "base_uri": "https://localhost:8080/",
          "height": 51
        }
      },
      "source": [
        "print(X[0])\n",
        "print(Y[0])"
      ],
      "execution_count": 0,
      "outputs": [
        {
          "output_type": "stream",
          "text": [
            "[5.1 3.5 1.4 0.2]\n",
            "setosa\n"
          ],
          "name": "stdout"
        }
      ]
    },
    {
      "cell_type": "code",
      "metadata": {
        "id": "pDj6aDPNM5RG",
        "colab_type": "code",
        "outputId": "3a85463d-bd75-4157-c95e-9f5110202a23",
        "colab": {
          "base_uri": "https://localhost:8080/",
          "height": 85
        }
      },
      "source": [
        "print(\"X_train:\",len(X_train))\n",
        "print(\"X_validation:\",len(X_validation))\n",
        "print(\"Y_train:\",len(Y_train))\n",
        "print(\"Y_validation:\",len(Y_validation))"
      ],
      "execution_count": 0,
      "outputs": [
        {
          "output_type": "stream",
          "text": [
            "X_train: 120\n",
            "X_validation: 30\n",
            "Y_train: 120\n",
            "Y_validation: 30\n"
          ],
          "name": "stdout"
        }
      ]
    },
    {
      "cell_type": "markdown",
      "metadata": {
        "id": "BQTOFImOOuW_",
        "colab_type": "text"
      },
      "source": [
        "##Making prediction"
      ]
    },
    {
      "cell_type": "code",
      "metadata": {
        "id": "_Yk748SdM5Th",
        "colab_type": "code",
        "colab": {}
      },
      "source": [
        "# 1. Create your Machine Learning model, based on what you got and what you need.\n",
        "from sklearn.neighbors import KNeighborsClassifier\n",
        "knn = KNeighborsClassifier()"
      ],
      "execution_count": 0,
      "outputs": []
    },
    {
      "cell_type": "code",
      "metadata": {
        "id": "K8gmcJ9hO4B5",
        "colab_type": "code",
        "outputId": "df23c4af-1e4b-4faf-ee9d-072a706398ef",
        "colab": {
          "base_uri": "https://localhost:8080/",
          "height": 68
        }
      },
      "source": [
        "# 2. Train your Machine Learning model\n",
        "knn.fit(X_train, Y_train)"
      ],
      "execution_count": 0,
      "outputs": [
        {
          "output_type": "execute_result",
          "data": {
            "text/plain": [
              "KNeighborsClassifier(algorithm='auto', leaf_size=30, metric='minkowski',\n",
              "           metric_params=None, n_jobs=None, n_neighbors=5, p=2,\n",
              "           weights='uniform')"
            ]
          },
          "metadata": {
            "tags": []
          },
          "execution_count": 12
        }
      ]
    },
    {
      "cell_type": "code",
      "metadata": {
        "id": "XxpRQmL_PBKe",
        "colab_type": "code",
        "colab": {}
      },
      "source": [
        "# 3. Make predictions with your separeted validation dataset\n",
        "predictions = knn.predict(X_validation)"
      ],
      "execution_count": 0,
      "outputs": []
    },
    {
      "cell_type": "markdown",
      "metadata": {
        "id": "r-S6CKKaRFCm",
        "colab_type": "text"
      },
      "source": [
        "## Results"
      ]
    },
    {
      "cell_type": "code",
      "metadata": {
        "id": "9NTFZvU7PNPn",
        "colab_type": "code",
        "outputId": "0d9b2b83-9131-4dd9-8c14-98164289c1ef",
        "colab": {
          "base_uri": "https://localhost:8080/",
          "height": 221
        }
      },
      "source": [
        "from sklearn.metrics import classification_report, \n",
        "confusion_matrix, accuracy_score\n",
        "\n",
        "print(\"My model  accuracy based on KNN Algorithm:\",\n",
        "      accuracy_score(Y_validation, predictions),\"\\n\")\n",
        "\n",
        "print(classification_report(Y_validation, predictions))"
      ],
      "execution_count": 0,
      "outputs": [
        {
          "output_type": "stream",
          "text": [
            "My model  accuracy based on KNN Algorithm: 0.9 \n",
            "\n",
            "              precision    recall  f1-score   support\n",
            "\n",
            "      setosa       1.00      1.00      1.00         7\n",
            "  versicolor       0.85      0.92      0.88        12\n",
            "   virginica       0.90      0.82      0.86        11\n",
            "\n",
            "   micro avg       0.90      0.90      0.90        30\n",
            "   macro avg       0.92      0.91      0.91        30\n",
            "weighted avg       0.90      0.90      0.90        30\n",
            "\n"
          ],
          "name": "stdout"
        }
      ]
    },
    {
      "cell_type": "markdown",
      "metadata": {
        "id": "NC9q-ojbRxpj",
        "colab_type": "text"
      },
      "source": [
        "## More supervised algorithms"
      ]
    },
    {
      "cell_type": "markdown",
      "metadata": {
        "id": "c0uVlckSCtb_",
        "colab_type": "text"
      },
      "source": [
        "* Naive Bayes\n",
        "* Random Forest\n",
        "* Support Vector Machines\n",
        "* Nearest Neighbors\n",
        "\n",
        "[Specifications here](https://scikit-learn.org/stable/supervised_learning.html)"
      ]
    },
    {
      "cell_type": "code",
      "metadata": {
        "id": "fnXFlWTdRxBK",
        "colab_type": "code",
        "outputId": "6e05c479-4efd-4967-b27d-f0150a45e491",
        "colab": {
          "base_uri": "https://localhost:8080/",
          "height": 275
        }
      },
      "source": [
        "scoring = 'accuracy'\n",
        "\n",
        "models = []\n",
        "models.append(('Logistic Regression', LogisticRegression(solver='liblinear', multi_class='ovr')))\n",
        "models.append(('Linear Discriminant Analysis', LinearDiscriminantAnalysis()))\n",
        "models.append(('K Nearest Neighbors', KNeighborsClassifier()))\n",
        "models.append(('Decision Tree', DecisionTreeClassifier()))\n",
        "models.append(('Gaussian NB', GaussianNB()))\n",
        "models.append(('Support Vector Machines', SVC(gamma='auto')))\n",
        "models.append(('AdaBoost', AdaBoostClassifier()))\n",
        "\n",
        "# evaluate each model in turn\n",
        "results = []\n",
        "names = []\n",
        "for name, model in models:\n",
        "\tkfold = model_selection.KFold(n_splits=10, random_state=seed)\n",
        "\tcv_results = model_selection.cross_val_score(model, X_train, Y_train, cv=kfold, scoring=scoring)\n",
        "\tresults.append(cv_results)\n",
        "\tnames.append(name)\n",
        "\tmsg = f\"{name} - Accuracy: {cv_results.mean()*100}% (+/- {cv_results.std()})\\n\"\n",
        "\tprint(msg)"
      ],
      "execution_count": 0,
      "outputs": [
        {
          "output_type": "stream",
          "text": [
            "Logistic Regression - Accuracy: 96.66666666666666% (+/- 0.04082482904638632)\n",
            "\n",
            "Linear Discriminant Analysis - Accuracy: 97.5% (+/- 0.03818813079129868)\n",
            "\n",
            "K Nearest Neighbors - Accuracy: 98.33333333333331% (+/- 0.03333333333333335)\n",
            "\n",
            "Decision Tree - Accuracy: 96.66666666666666% (+/- 0.04082482904638632)\n",
            "\n",
            "Gaussian NB - Accuracy: 97.5% (+/- 0.053359368645273735)\n",
            "\n",
            "Support Vector Machines - Accuracy: 99.16666666666666% (+/- 0.025000000000000012)\n",
            "\n",
            "AdaBoost - Accuracy: 97.5% (+/- 0.03818813079129868)\n",
            "\n"
          ],
          "name": "stdout"
        }
      ]
    },
    {
      "cell_type": "markdown",
      "metadata": {
        "id": "bgfnY2RMBcje",
        "colab_type": "text"
      },
      "source": [
        "##Testing another algorithm"
      ]
    },
    {
      "cell_type": "code",
      "metadata": {
        "id": "1mPW1AAHSXHY",
        "colab_type": "code",
        "outputId": "c451079a-066a-410c-b9e2-f6c1743b23d4",
        "colab": {
          "base_uri": "https://localhost:8080/",
          "height": 190
        }
      },
      "source": [
        "from sklearn.ensemble import RandomForestClassifier\n",
        "\n",
        "random_forest = RandomForestClassifier()\n",
        "\n",
        "random_forest.fit(X_train, Y_train)"
      ],
      "execution_count": 0,
      "outputs": [
        {
          "output_type": "stream",
          "text": [
            "/usr/local/lib/python3.6/dist-packages/sklearn/ensemble/forest.py:246: FutureWarning: The default value of n_estimators will change from 10 in version 0.20 to 100 in 0.22.\n",
            "  \"10 in version 0.20 to 100 in 0.22.\", FutureWarning)\n"
          ],
          "name": "stderr"
        },
        {
          "output_type": "execute_result",
          "data": {
            "text/plain": [
              "RandomForestClassifier(bootstrap=True, class_weight=None, criterion='gini',\n",
              "            max_depth=None, max_features='auto', max_leaf_nodes=None,\n",
              "            min_impurity_decrease=0.0, min_impurity_split=None,\n",
              "            min_samples_leaf=1, min_samples_split=2,\n",
              "            min_weight_fraction_leaf=0.0, n_estimators=10, n_jobs=None,\n",
              "            oob_score=False, random_state=None, verbose=0,\n",
              "            warm_start=False)"
            ]
          },
          "metadata": {
            "tags": []
          },
          "execution_count": 16
        }
      ]
    },
    {
      "cell_type": "code",
      "metadata": {
        "id": "yZY9MFubChR6",
        "colab_type": "code",
        "outputId": "fb7872f0-7a03-4fb7-d347-d3b40f03273f",
        "colab": {
          "base_uri": "https://localhost:8080/",
          "height": 204
        }
      },
      "source": [
        "predictions1 = random_forest.predict(X_validation)\n",
        "\n",
        "print(\"Accuracy score:\",accuracy_score(Y_validation, predictions1))\n",
        "#print(confusion_matrix(Y_validation, predictions1))\n",
        "print(classification_report(Y_validation, predictions1))"
      ],
      "execution_count": 0,
      "outputs": [
        {
          "output_type": "stream",
          "text": [
            "Accuracy score: 0.8333333333333334\n",
            "              precision    recall  f1-score   support\n",
            "\n",
            "      setosa       1.00      1.00      1.00         7\n",
            "  versicolor       0.82      0.75      0.78        12\n",
            "   virginica       0.75      0.82      0.78        11\n",
            "\n",
            "   micro avg       0.83      0.83      0.83        30\n",
            "   macro avg       0.86      0.86      0.86        30\n",
            "weighted avg       0.84      0.83      0.83        30\n",
            "\n"
          ],
          "name": "stdout"
        }
      ]
    },
    {
      "cell_type": "code",
      "metadata": {
        "id": "4fr-UIeCH3hk",
        "colab_type": "code",
        "outputId": "539194a9-3f15-479f-925e-046fef12e0b0",
        "colab": {
          "base_uri": "https://localhost:8080/",
          "height": 51
        }
      },
      "source": [
        "adab = AdaBoostClassifier()\n",
        "adab.fit(X_train, Y_train)\n"
      ],
      "execution_count": 0,
      "outputs": [
        {
          "output_type": "execute_result",
          "data": {
            "text/plain": [
              "AdaBoostClassifier(algorithm='SAMME.R', base_estimator=None,\n",
              "          learning_rate=1.0, n_estimators=50, random_state=None)"
            ]
          },
          "metadata": {
            "tags": []
          },
          "execution_count": 18
        }
      ]
    },
    {
      "cell_type": "code",
      "metadata": {
        "id": "729DjRmLIDsU",
        "colab_type": "code",
        "outputId": "f4081c14-08f3-495b-c014-2580e5478e46",
        "colab": {
          "base_uri": "https://localhost:8080/",
          "height": 204
        }
      },
      "source": [
        "#AdaBoost documentation: https://scikit-learn.org/stable/modules/generated/sklearn.ensemble.AdaBoostClassifier.html\n",
        "\n",
        "predictions2 = adab.predict(X_validation)\n",
        "\n",
        "print(\"Accuracy score:\", accuracy_score(Y_validation, predictions2))\n",
        "#print(confusion_matrix(Y_validation, predictions2))\n",
        "print(classification_report(Y_validation, predictions2))"
      ],
      "execution_count": 0,
      "outputs": [
        {
          "output_type": "stream",
          "text": [
            "Accuracy score: 0.8666666666666667\n",
            "              precision    recall  f1-score   support\n",
            "\n",
            "      setosa       1.00      1.00      1.00         7\n",
            "  versicolor       0.83      0.83      0.83        12\n",
            "   virginica       0.82      0.82      0.82        11\n",
            "\n",
            "   micro avg       0.87      0.87      0.87        30\n",
            "   macro avg       0.88      0.88      0.88        30\n",
            "weighted avg       0.87      0.87      0.87        30\n",
            "\n"
          ],
          "name": "stdout"
        }
      ]
    },
    {
      "cell_type": "code",
      "metadata": {
        "id": "uKMUeDzsInYx",
        "colab_type": "code",
        "colab": {}
      },
      "source": [
        ""
      ],
      "execution_count": 0,
      "outputs": []
    }
  ]
}